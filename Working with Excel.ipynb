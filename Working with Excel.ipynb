{
 "cells": [
  {
   "cell_type": "markdown",
   "metadata": {},
   "source": [
    "# 在Python下使用openpyxl模块读取和修改Excel文件\n",
    "Python没有自带openpyxl，需要单独安装。\n",
    "下文代码，是基于编辑本文时openpyxl的最新版本-2.5.9版本。\n",
    "网络上存在的一些基于老版本的代码，在新版本上已无法运行，请予以注意。"
   ]
  },
  {
   "cell_type": "markdown",
   "metadata": {},
   "source": [
    "## 1. 读取Excel文档"
   ]
  },
  {
   "cell_type": "markdown",
   "metadata": {},
   "source": [
    "### 1.1 用openpyxl模块打开Excel文档"
   ]
  },
  {
   "cell_type": "code",
   "execution_count": 1,
   "metadata": {},
   "outputs": [],
   "source": [
    "import openpyxl#导入openpyxl库，用于处理excel"
   ]
  },
  {
   "cell_type": "code",
   "execution_count": 2,
   "metadata": {},
   "outputs": [
    {
     "data": {
      "text/plain": [
       "openpyxl.workbook.workbook.Workbook"
      ]
     },
     "execution_count": 2,
     "metadata": {},
     "output_type": "execute_result"
    }
   ],
   "source": [
    "wb = openpyxl.load_workbook('example.xlsx')#打开excel表格\n",
    "type(wb)#查看表格wb的数据类型"
   ]
  },
  {
   "cell_type": "code",
   "execution_count": 3,
   "metadata": {},
   "outputs": [],
   "source": [
    "import os#导入os库，获取/改变工作目录"
   ]
  },
  {
   "cell_type": "code",
   "execution_count": 4,
   "metadata": {},
   "outputs": [
    {
     "data": {
      "text/plain": [
       "'c:\\\\Code\\\\automatebook'"
      ]
     },
     "execution_count": 4,
     "metadata": {},
     "output_type": "execute_result"
    }
   ],
   "source": [
    "os.getcwd()#获取当前工作目录"
   ]
  },
  {
   "cell_type": "markdown",
   "metadata": {},
   "source": [
    "### 1.2 从工作簿中取得工作表"
   ]
  },
  {
   "cell_type": "code",
   "execution_count": 5,
   "metadata": {},
   "outputs": [
    {
     "data": {
      "text/plain": [
       "['Sheet1', 'Sheet2', 'Sheet3']"
      ]
     },
     "execution_count": 5,
     "metadata": {},
     "output_type": "execute_result"
    }
   ],
   "source": [
    "wb.sheetnames#获取工作簿wb的所有工作表名称"
   ]
  },
  {
   "cell_type": "code",
   "execution_count": 6,
   "metadata": {},
   "outputs": [
    {
     "data": {
      "text/plain": [
       "<Worksheet \"Sheet1\">"
      ]
     },
     "execution_count": 6,
     "metadata": {},
     "output_type": "execute_result"
    }
   ],
   "source": [
    "sheet = wb['Sheet1']#获得工作表\n",
    "sheet"
   ]
  },
  {
   "cell_type": "code",
   "execution_count": 7,
   "metadata": {},
   "outputs": [
    {
     "data": {
      "text/plain": [
       "openpyxl.worksheet.worksheet.Worksheet"
      ]
     },
     "execution_count": 7,
     "metadata": {},
     "output_type": "execute_result"
    }
   ],
   "source": [
    "type(sheet)#获取工作表Sheet1的数据类型"
   ]
  },
  {
   "cell_type": "code",
   "execution_count": 8,
   "metadata": {
    "scrolled": true
   },
   "outputs": [
    {
     "data": {
      "text/plain": [
       "'Sheet1'"
      ]
     },
     "execution_count": 8,
     "metadata": {},
     "output_type": "execute_result"
    }
   ],
   "source": [
    "sheet.title#获取工作表的名称"
   ]
  },
  {
   "cell_type": "markdown",
   "metadata": {},
   "source": [
    "### 1.3 从工作表中取得单元格"
   ]
  },
  {
   "cell_type": "code",
   "execution_count": 9,
   "metadata": {},
   "outputs": [
    {
     "data": {
      "text/plain": [
       "<Cell 'Sheet1'.A1>"
      ]
     },
     "execution_count": 9,
     "metadata": {},
     "output_type": "execute_result"
    }
   ],
   "source": [
    "sheet['A1']#按照名字访问Cell对象"
   ]
  },
  {
   "cell_type": "code",
   "execution_count": 10,
   "metadata": {},
   "outputs": [
    {
     "data": {
      "text/plain": [
       "datetime.datetime(2015, 4, 5, 13, 34, 2)"
      ]
     },
     "execution_count": 10,
     "metadata": {},
     "output_type": "execute_result"
    }
   ],
   "source": [
    "sheet['A1'].value#获取单元格中保存的值"
   ]
  },
  {
   "cell_type": "code",
   "execution_count": 11,
   "metadata": {},
   "outputs": [],
   "source": [
    "b1 = sheet['B1']#将单元格B1赋值给b1"
   ]
  },
  {
   "cell_type": "code",
   "execution_count": 12,
   "metadata": {},
   "outputs": [
    {
     "data": {
      "text/plain": [
       "<Cell 'Sheet1'.B1>"
      ]
     },
     "execution_count": 12,
     "metadata": {},
     "output_type": "execute_result"
    }
   ],
   "source": [
    "b1"
   ]
  },
  {
   "cell_type": "code",
   "execution_count": 13,
   "metadata": {},
   "outputs": [
    {
     "data": {
      "text/plain": [
       "1"
      ]
     },
     "execution_count": 13,
     "metadata": {},
     "output_type": "execute_result"
    }
   ],
   "source": [
    "b1.row#获取单元格所在行"
   ]
  },
  {
   "cell_type": "code",
   "execution_count": 14,
   "metadata": {},
   "outputs": [
    {
     "data": {
      "text/plain": [
       "'B'"
      ]
     },
     "execution_count": 14,
     "metadata": {},
     "output_type": "execute_result"
    }
   ],
   "source": [
    "b1.column#获取单元格所在列"
   ]
  },
  {
   "cell_type": "code",
   "execution_count": 15,
   "metadata": {},
   "outputs": [
    {
     "data": {
      "text/plain": [
       "'B1'"
      ]
     },
     "execution_count": 15,
     "metadata": {},
     "output_type": "execute_result"
    }
   ],
   "source": [
    "b1.coordinate#获取单元格坐标"
   ]
  },
  {
   "cell_type": "code",
   "execution_count": 16,
   "metadata": {},
   "outputs": [
    {
     "data": {
      "text/plain": [
       "<Cell 'Sheet1'.B1>"
      ]
     },
     "execution_count": 16,
     "metadata": {},
     "output_type": "execute_result"
    }
   ],
   "source": [
    "sheet.cell(row=1,column=2)#通过数字而非字母获得单元格"
   ]
  },
  {
   "cell_type": "code",
   "execution_count": 17,
   "metadata": {},
   "outputs": [
    {
     "data": {
      "text/plain": [
       "'Apples'"
      ]
     },
     "execution_count": 17,
     "metadata": {},
     "output_type": "execute_result"
    }
   ],
   "source": [
    "sheet.cell(row=1,column=2).value#获得单元格保存的值"
   ]
  },
  {
   "cell_type": "code",
   "execution_count": 18,
   "metadata": {},
   "outputs": [
    {
     "name": "stdout",
     "output_type": "stream",
     "text": [
      "1: Apples\n",
      "3: Pears\n",
      "5: Apples\n",
      "7: Strawberries\n"
     ]
    }
   ],
   "source": [
    "for i in range(1,8,2):#打印第二列奇数行数据\n",
    "    print (str(i) + ': ' + sheet.cell(row=i,column=2).value)"
   ]
  },
  {
   "cell_type": "code",
   "execution_count": 19,
   "metadata": {},
   "outputs": [
    {
     "data": {
      "text/plain": [
       "7"
      ]
     },
     "execution_count": 19,
     "metadata": {},
     "output_type": "execute_result"
    }
   ],
   "source": [
    "sheet.max_row#获取工作表行数"
   ]
  },
  {
   "cell_type": "code",
   "execution_count": 20,
   "metadata": {},
   "outputs": [
    {
     "data": {
      "text/plain": [
       "3"
      ]
     },
     "execution_count": 20,
     "metadata": {},
     "output_type": "execute_result"
    }
   ],
   "source": [
    "sheet.max_column#获取工作表列数"
   ]
  },
  {
   "cell_type": "markdown",
   "metadata": {},
   "source": [
    "### 1.4 列字母和数字之间的转换"
   ]
  },
  {
   "cell_type": "code",
   "execution_count": 21,
   "metadata": {},
   "outputs": [
    {
     "data": {
      "text/plain": [
       "'B'"
      ]
     },
     "execution_count": 21,
     "metadata": {},
     "output_type": "execute_result"
    }
   ],
   "source": [
    "from openpyxl.utils import get_column_letter,column_index_from_string#调用列字母和数字转换函数\n",
    "get_column_letter(2)#数字转换到字母"
   ]
  },
  {
   "cell_type": "code",
   "execution_count": 22,
   "metadata": {},
   "outputs": [
    {
     "data": {
      "text/plain": [
       "27"
      ]
     },
     "execution_count": 22,
     "metadata": {},
     "output_type": "execute_result"
    }
   ],
   "source": [
    "column_index_from_string('AA')#字母转换到数字"
   ]
  },
  {
   "cell_type": "code",
   "execution_count": 23,
   "metadata": {},
   "outputs": [
    {
     "data": {
      "text/plain": [
       "'C'"
      ]
     },
     "execution_count": 23,
     "metadata": {},
     "output_type": "execute_result"
    }
   ],
   "source": [
    "get_column_letter(sheet.max_column)#获取工作表Sheet1最大列数"
   ]
  },
  {
   "cell_type": "markdown",
   "metadata": {},
   "source": [
    "### 1.5 从表中取得行和列"
   ]
  },
  {
   "cell_type": "code",
   "execution_count": 24,
   "metadata": {},
   "outputs": [
    {
     "data": {
      "text/plain": [
       "((<Cell 'Sheet1'.A1>, <Cell 'Sheet1'.B1>, <Cell 'Sheet1'.C1>),\n",
       " (<Cell 'Sheet1'.A2>, <Cell 'Sheet1'.B2>, <Cell 'Sheet1'.C2>),\n",
       " (<Cell 'Sheet1'.A3>, <Cell 'Sheet1'.B3>, <Cell 'Sheet1'.C3>))"
      ]
     },
     "execution_count": 24,
     "metadata": {},
     "output_type": "execute_result"
    }
   ],
   "source": [
    "tuple(sheet['A1':'C3'])#使用tuple()函数，可以看到A1:C3矩形区域中的Cell对象\n",
    "#这个元组包含3个元组：每个元组代表1行，从指定区域的顶部到底部"
   ]
  },
  {
   "cell_type": "code",
   "execution_count": 25,
   "metadata": {},
   "outputs": [
    {
     "name": "stdout",
     "output_type": "stream",
     "text": [
      "A1 2015-04-05 13:34:02\n",
      "B1 Apples\n",
      "C1 73\n",
      "---END OF ROW---\n",
      "A2 2015-04-05 03:41:23\n",
      "B2 Cherries\n",
      "C2 85\n",
      "---END OF ROW---\n",
      "A3 2015-04-06 12:46:51\n",
      "B3 Pears\n",
      "C3 14\n",
      "---END OF ROW---\n"
     ]
    }
   ],
   "source": [
    "for i in sheet['A1':'C3']:#使用两个for循环，遍历所有单元格的值；外层for循环遍历这个切片的每一行\n",
    "    for j in i:#内层for循环遍历改行中的每个单元格\n",
    "        print(j.coordinate,j.value)\n",
    "    print('---END OF ROW---')"
   ]
  },
  {
   "cell_type": "code",
   "execution_count": 26,
   "metadata": {},
   "outputs": [
    {
     "data": {
      "text/plain": [
       "(<Cell 'Sheet1'.A1>,\n",
       " <Cell 'Sheet1'.A2>,\n",
       " <Cell 'Sheet1'.A3>,\n",
       " <Cell 'Sheet1'.A4>,\n",
       " <Cell 'Sheet1'.A5>,\n",
       " <Cell 'Sheet1'.A6>,\n",
       " <Cell 'Sheet1'.A7>)"
      ]
     },
     "execution_count": 26,
     "metadata": {},
     "output_type": "execute_result"
    }
   ],
   "source": [
    "next(sheet.columns)#获取第一列数据"
   ]
  },
  {
   "cell_type": "code",
   "execution_count": 27,
   "metadata": {},
   "outputs": [
    {
     "data": {
      "text/plain": [
       "(<Cell 'Sheet1'.A1>,\n",
       " <Cell 'Sheet1'.A2>,\n",
       " <Cell 'Sheet1'.A3>,\n",
       " <Cell 'Sheet1'.A4>,\n",
       " <Cell 'Sheet1'.A5>,\n",
       " <Cell 'Sheet1'.A6>,\n",
       " <Cell 'Sheet1'.A7>)"
      ]
     },
     "execution_count": 27,
     "metadata": {},
     "output_type": "execute_result"
    }
   ],
   "source": [
    "sheet['A']#获取第一列数据"
   ]
  },
  {
   "cell_type": "code",
   "execution_count": 28,
   "metadata": {},
   "outputs": [
    {
     "data": {
      "text/plain": [
       "(<Cell 'Sheet1'.A1>, <Cell 'Sheet1'.B1>, <Cell 'Sheet1'.C1>)"
      ]
     },
     "execution_count": 28,
     "metadata": {},
     "output_type": "execute_result"
    }
   ],
   "source": [
    "sheet[1]#获取第一行数据"
   ]
  },
  {
   "cell_type": "code",
   "execution_count": 29,
   "metadata": {},
   "outputs": [
    {
     "name": "stdout",
     "output_type": "stream",
     "text": [
      "Apples\n",
      "Cherries\n",
      "Pears\n",
      "Oranges\n",
      "Apples\n",
      "Bananas\n",
      "Strawberries\n"
     ]
    }
   ],
   "source": [
    "for i in sheet['B']:#打印第二列数据\n",
    "    print(i.value)"
   ]
  },
  {
   "cell_type": "markdown",
   "metadata": {},
   "source": [
    "## 2. 写入Excel文档"
   ]
  },
  {
   "cell_type": "markdown",
   "metadata": {},
   "source": [
    "### 2.1 创建并保存Excel文档"
   ]
  },
  {
   "cell_type": "code",
   "execution_count": 30,
   "metadata": {},
   "outputs": [
    {
     "data": {
      "text/plain": [
       "['Sheet']"
      ]
     },
     "execution_count": 30,
     "metadata": {},
     "output_type": "execute_result"
    }
   ],
   "source": [
    "import openpyxl#导入openpyxl模块\n",
    "wb = openpyxl.Workbook()#创建一个新的工作簿\n",
    "wb.sheetnames#获取新工作簿的工作表名称"
   ]
  },
  {
   "cell_type": "code",
   "execution_count": 31,
   "metadata": {},
   "outputs": [],
   "source": [
    "sheet = wb.active#获得活跃的工作表"
   ]
  },
  {
   "cell_type": "code",
   "execution_count": 32,
   "metadata": {},
   "outputs": [
    {
     "data": {
      "text/plain": [
       "'Sheet'"
      ]
     },
     "execution_count": 32,
     "metadata": {},
     "output_type": "execute_result"
    }
   ],
   "source": [
    "sheet.title#活跃工作表的名称"
   ]
  },
  {
   "cell_type": "code",
   "execution_count": 33,
   "metadata": {},
   "outputs": [],
   "source": [
    "sheet.title = 'New Sheet 1'#重命名活跃工作表的名称"
   ]
  },
  {
   "cell_type": "code",
   "execution_count": 34,
   "metadata": {},
   "outputs": [
    {
     "data": {
      "text/plain": [
       "['New Sheet 1']"
      ]
     },
     "execution_count": 34,
     "metadata": {},
     "output_type": "execute_result"
    }
   ],
   "source": [
    "wb.sheetnames#查看活跃工作表名称"
   ]
  },
  {
   "cell_type": "code",
   "execution_count": 35,
   "metadata": {},
   "outputs": [],
   "source": [
    "wb.save('test.xlsx')#保存工作簿，如果没有该句，工作簿不会保存"
   ]
  },
  {
   "cell_type": "markdown",
   "metadata": {},
   "source": [
    "### 2.2 创建和删除工作表"
   ]
  },
  {
   "cell_type": "code",
   "execution_count": 36,
   "metadata": {},
   "outputs": [
    {
     "data": {
      "text/plain": [
       "['New Sheet 1']"
      ]
     },
     "execution_count": 36,
     "metadata": {},
     "output_type": "execute_result"
    }
   ],
   "source": [
    "wb.sheetnames#查看所有工作表名称"
   ]
  },
  {
   "cell_type": "code",
   "execution_count": 37,
   "metadata": {},
   "outputs": [
    {
     "data": {
      "text/plain": [
       "<Worksheet \"Sheet\">"
      ]
     },
     "execution_count": 37,
     "metadata": {},
     "output_type": "execute_result"
    }
   ],
   "source": [
    "wb.create_sheet()#创建工作表，默认名为SheetX，默认是工作簿的最后一个工作表"
   ]
  },
  {
   "cell_type": "code",
   "execution_count": 38,
   "metadata": {},
   "outputs": [
    {
     "data": {
      "text/plain": [
       "['New Sheet 1', 'Sheet']"
      ]
     },
     "execution_count": 38,
     "metadata": {},
     "output_type": "execute_result"
    }
   ],
   "source": [
    "wb.sheetnames#查看工作表名称变化"
   ]
  },
  {
   "cell_type": "code",
   "execution_count": 39,
   "metadata": {},
   "outputs": [
    {
     "data": {
      "text/plain": [
       "<Worksheet \"First Sheet\">"
      ]
     },
     "execution_count": 39,
     "metadata": {},
     "output_type": "execute_result"
    }
   ],
   "source": [
    "wb.create_sheet(index=0,title='First Sheet')#通过index、title关键字参数，指定新工作表的索引（位置）和名称"
   ]
  },
  {
   "cell_type": "code",
   "execution_count": 40,
   "metadata": {},
   "outputs": [
    {
     "data": {
      "text/plain": [
       "['First Sheet', 'New Sheet 1', 'Sheet']"
      ]
     },
     "execution_count": 40,
     "metadata": {},
     "output_type": "execute_result"
    }
   ],
   "source": [
    "wb.sheetnames#查看工作表名称变化"
   ]
  },
  {
   "cell_type": "code",
   "execution_count": 41,
   "metadata": {},
   "outputs": [
    {
     "data": {
      "text/plain": [
       "<Worksheet \"Middle Sheet\">"
      ]
     },
     "execution_count": 41,
     "metadata": {},
     "output_type": "execute_result"
    }
   ],
   "source": [
    "wb.create_sheet(index=2,title='Middle Sheet')#创建索引为2，名称为Middle Sheet的工作表"
   ]
  },
  {
   "cell_type": "code",
   "execution_count": 42,
   "metadata": {},
   "outputs": [
    {
     "data": {
      "text/plain": [
       "['First Sheet', 'New Sheet 1', 'Middle Sheet', 'Sheet']"
      ]
     },
     "execution_count": 42,
     "metadata": {},
     "output_type": "execute_result"
    }
   ],
   "source": [
    "wb.sheetnames#查看工作表名称变化"
   ]
  },
  {
   "cell_type": "code",
   "execution_count": 43,
   "metadata": {},
   "outputs": [],
   "source": [
    "wb.remove(wb['Middle Sheet'])#删除工作表，remove()方法接受Worksheet对象作为其参数，而不是工作表名称的字符串"
   ]
  },
  {
   "cell_type": "code",
   "execution_count": 44,
   "metadata": {},
   "outputs": [
    {
     "data": {
      "text/plain": [
       "['First Sheet', 'New Sheet 1', 'Sheet']"
      ]
     },
     "execution_count": 44,
     "metadata": {},
     "output_type": "execute_result"
    }
   ],
   "source": [
    "wb.sheetnames#查看工作表名称变化"
   ]
  },
  {
   "cell_type": "code",
   "execution_count": 45,
   "metadata": {},
   "outputs": [],
   "source": [
    "wb.save('test1.xlsx')#保存工作表"
   ]
  },
  {
   "cell_type": "markdown",
   "metadata": {},
   "source": [
    "### 2.3 将值写入单元格"
   ]
  },
  {
   "cell_type": "code",
   "execution_count": 46,
   "metadata": {},
   "outputs": [],
   "source": [
    "sheet = wb['Sheet']\n",
    "sheet['A1'] = 'Hello world!'"
   ]
  },
  {
   "cell_type": "code",
   "execution_count": 47,
   "metadata": {},
   "outputs": [
    {
     "data": {
      "text/plain": [
       "'Hello world!'"
      ]
     },
     "execution_count": 47,
     "metadata": {},
     "output_type": "execute_result"
    }
   ],
   "source": [
    "sheet['A1'].value"
   ]
  },
  {
   "cell_type": "code",
   "execution_count": 48,
   "metadata": {},
   "outputs": [],
   "source": [
    "wb.save('test1.xlsx')#将值保存在原文件中"
   ]
  },
  {
   "cell_type": "markdown",
   "metadata": {},
   "source": [
    "### 2.4 设置单元格的字体风格"
   ]
  },
  {
   "cell_type": "code",
   "execution_count": 49,
   "metadata": {},
   "outputs": [],
   "source": [
    "from openpyxl.styles import Font, colors#导入Font()和 colors()函数"
   ]
  },
  {
   "cell_type": "code",
   "execution_count": 50,
   "metadata": {},
   "outputs": [],
   "source": [
    "wb['Sheet']['A1'].font = Font(color = colors.RED,italic = True)#设置Sheet工作表A1单元格字体为红色、斜体"
   ]
  },
  {
   "cell_type": "code",
   "execution_count": 51,
   "metadata": {},
   "outputs": [],
   "source": [
    "wb.save('test_styled.xlsx')#保存文件"
   ]
  },
  {
   "cell_type": "markdown",
   "metadata": {},
   "source": [
    "### 2.5 Font对象\n",
    "Font属性关键字参数\n",
    "name：字体名称，诸如'Calibri'\n",
    "size：字体大小\n",
    "bold：True表示粗体\n",
    "italic：True表示斜体"
   ]
  },
  {
   "cell_type": "code",
   "execution_count": 52,
   "metadata": {},
   "outputs": [],
   "source": [
    "wb['Sheet']['A2'] = 'Hello world'#给A2单元格赋值\n",
    "font1 = Font(name='Calibri',size=12,bold=True,italic=False)#将Font对象保存在一个变量中\n",
    "wb['Sheet']['A2'].font = font1#将A2单元格字体设置为font1形式"
   ]
  },
  {
   "cell_type": "code",
   "execution_count": 53,
   "metadata": {},
   "outputs": [],
   "source": [
    "wb.save('test_styled.xlsx')#保存文件"
   ]
  },
  {
   "cell_type": "markdown",
   "metadata": {},
   "source": [
    "### 2.6 公式"
   ]
  },
  {
   "cell_type": "code",
   "execution_count": 54,
   "metadata": {},
   "outputs": [],
   "source": [
    "sheet = wb.active#将活跃工作表赋值给sheet\n",
    "sheet['A1'] = 123\n",
    "sheet['A2'] = 234\n",
    "sheet['A3'] = '=SUM(A1:A2)'#在A3单元格书写公式\n",
    "wb.save('writeFormula.xlsx')#保存文件"
   ]
  },
  {
   "cell_type": "code",
   "execution_count": 55,
   "metadata": {},
   "outputs": [
    {
     "data": {
      "text/plain": [
       "'=SUM(A1:A2)'"
      ]
     },
     "execution_count": 55,
     "metadata": {},
     "output_type": "execute_result"
    }
   ],
   "source": [
    "sheet['A3'].value#如果excel有公式，openpyxl默认显示公式而非计算的数值"
   ]
  },
  {
   "cell_type": "code",
   "execution_count": 56,
   "metadata": {},
   "outputs": [],
   "source": [
    "wbDataOnly = openpyxl.load_workbook('writeFormula.xlsx',data_only=True)#通过关键字参数data_only可以只显示数值\n",
    "sheet1 = wbDataOnly.active\n",
    "sheet1['A3'].value#如果在将公式写入A3单元格后，未打开Excel，则该公式不会计算直至打开Excel并保存。\n",
    "#所以，公式通过openpyxl写入单元格后，不打开Excel，则该句不会显示计算结果。"
   ]
  },
  {
   "cell_type": "markdown",
   "metadata": {},
   "source": [
    "### 2.7 调整行和列"
   ]
  },
  {
   "cell_type": "markdown",
   "metadata": {},
   "source": [
    "#### 2.7.1 设置行高和列宽"
   ]
  },
  {
   "cell_type": "code",
   "execution_count": 57,
   "metadata": {},
   "outputs": [],
   "source": [
    "wb = openpyxl.Workbook()#新建工作簿\n",
    "sheet = wb.active#获取活跃工作表\n",
    "sheet['A1'] = 'Hello'\n",
    "sheet['B2'] = 'World'"
   ]
  },
  {
   "cell_type": "code",
   "execution_count": 58,
   "metadata": {},
   "outputs": [],
   "source": [
    "sheet.row_dimensions[1].height = 70#设置第一行行高"
   ]
  },
  {
   "cell_type": "code",
   "execution_count": 59,
   "metadata": {},
   "outputs": [],
   "source": [
    "sheet.column_dimensions['B'].width = 20#设置第二列列宽"
   ]
  },
  {
   "cell_type": "code",
   "execution_count": 60,
   "metadata": {},
   "outputs": [],
   "source": [
    "wb.save('dimensions.xlsx')#保存文件"
   ]
  },
  {
   "cell_type": "markdown",
   "metadata": {},
   "source": [
    "#### 2.7.2 合并和拆分单元格"
   ]
  },
  {
   "cell_type": "code",
   "execution_count": 61,
   "metadata": {},
   "outputs": [],
   "source": [
    "wb = openpyxl.Workbook()#创建一个工作簿\n",
    "sheet = wb.active#获取活跃工作表\n",
    "sheet.merge_cells('A1:D3')#合并A1:D3单元格\n",
    "sheet['A1'] = '12个单元格合并在一起'#给合并的单元格赋值\n",
    "sheet.merge_cells('C5:E5')\n",
    "sheet['C5'] = '3个单元格合并在一起'\n",
    "wb.save('merged.xlsx')#保存文件"
   ]
  },
  {
   "cell_type": "code",
   "execution_count": 62,
   "metadata": {},
   "outputs": [],
   "source": [
    "wb = openpyxl.load_workbook('merged.xlsx')#打开工作簿\n",
    "sheet = wb.active#获取活跃工作表\n",
    "sheet.unmerge_cells('A1:D3')#拆分A1:D3单元格\n",
    "wb.save('merged.xlsx')#保存文件"
   ]
  },
  {
   "cell_type": "markdown",
   "metadata": {},
   "source": [
    "#### 2.7.3 冻结窗格"
   ]
  },
  {
   "cell_type": "code",
   "execution_count": 63,
   "metadata": {},
   "outputs": [],
   "source": [
    "wb = openpyxl.load_workbook('produceSales.xlsx')#加载工作簿\n",
    "sheet = wb.active#获取活跃工作表\n",
    "sheet.freeze_panes = 'A2'#冻结行1\n",
    "wb.save('freezeExample.xlsx')#保存文件"
   ]
  },
  {
   "cell_type": "markdown",
   "metadata": {},
   "source": [
    "#### 2.7.4 图表"
   ]
  },
  {
   "cell_type": "code",
   "execution_count": 64,
   "metadata": {},
   "outputs": [],
   "source": [
    "wb = openpyxl.Workbook()#创建工作簿\n",
    "sheet = wb.active#获取活跃工作表\n",
    "for i in range(1,21):#创建20个数据\n",
    "    sheet['A'+str(i)] = i*i\n",
    "\n",
    "from openpyxl.chart import BarChart,Reference,Series#导入条形图、Reference和Series对象\n",
    "values = Reference(sheet,min_col=1,min_row=1,max_col=1,max_row=20)#图表的值范围\n",
    "chart = BarChart()#创建条形图\n",
    "chart.add_data(values)#在条形图上加载数据\n",
    "sheet.add_chart(chart,'B2')#在表格上加载条形图\n",
    "wb.save('sampleChart.xlsx')#保存文件"
   ]
  }
 ],
 "metadata": {
  "kernelspec": {
   "display_name": "Python [conda env:py3]",
   "language": "python",
   "name": "conda-env-py3-py"
  },
  "language_info": {
   "codemirror_mode": {
    "name": "ipython",
    "version": 3
   },
   "file_extension": ".py",
   "mimetype": "text/x-python",
   "name": "python",
   "nbconvert_exporter": "python",
   "pygments_lexer": "ipython3",
   "version": "3.7.0"
  }
 },
 "nbformat": 4,
 "nbformat_minor": 2
}
